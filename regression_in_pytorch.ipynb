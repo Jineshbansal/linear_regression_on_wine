{
  "nbformat": 4,
  "nbformat_minor": 0,
  "metadata": {
    "colab": {
      "provenance": []
    },
    "kernelspec": {
      "name": "python3",
      "display_name": "Python 3"
    },
    "language_info": {
      "name": "python"
    },
    "widgets": {
      "application/vnd.jupyter.widget-state+json": {
        "42299b34515f4998b3ff1bc5ac1ad931": {
          "model_module": "@jupyter-widgets/controls",
          "model_name": "HBoxModel",
          "model_module_version": "1.5.0",
          "state": {
            "_dom_classes": [],
            "_model_module": "@jupyter-widgets/controls",
            "_model_module_version": "1.5.0",
            "_model_name": "HBoxModel",
            "_view_count": null,
            "_view_module": "@jupyter-widgets/controls",
            "_view_module_version": "1.5.0",
            "_view_name": "HBoxView",
            "box_style": "",
            "children": [
              "IPY_MODEL_61b5bcb426494268b179b7d7904b4996",
              "IPY_MODEL_9c9112ebab614f5b9b5f10cea9d28430",
              "IPY_MODEL_50ccafb32c8e44bbb25ffc8bade51116"
            ],
            "layout": "IPY_MODEL_28ebc48ff1054845bfe22565c420dc98"
          }
        },
        "61b5bcb426494268b179b7d7904b4996": {
          "model_module": "@jupyter-widgets/controls",
          "model_name": "HTMLModel",
          "model_module_version": "1.5.0",
          "state": {
            "_dom_classes": [],
            "_model_module": "@jupyter-widgets/controls",
            "_model_module_version": "1.5.0",
            "_model_name": "HTMLModel",
            "_view_count": null,
            "_view_module": "@jupyter-widgets/controls",
            "_view_module_version": "1.5.0",
            "_view_name": "HTMLView",
            "description": "",
            "description_tooltip": null,
            "layout": "IPY_MODEL_224608f888274b82a1ba133f22d1487e",
            "placeholder": "​",
            "style": "IPY_MODEL_34ca0333a8824cbf9cb13c213f34746e",
            "value": "100%"
          }
        },
        "9c9112ebab614f5b9b5f10cea9d28430": {
          "model_module": "@jupyter-widgets/controls",
          "model_name": "FloatProgressModel",
          "model_module_version": "1.5.0",
          "state": {
            "_dom_classes": [],
            "_model_module": "@jupyter-widgets/controls",
            "_model_module_version": "1.5.0",
            "_model_name": "FloatProgressModel",
            "_view_count": null,
            "_view_module": "@jupyter-widgets/controls",
            "_view_module_version": "1.5.0",
            "_view_name": "ProgressView",
            "bar_style": "success",
            "description": "",
            "description_tooltip": null,
            "layout": "IPY_MODEL_b3d815ac6ef34cabaf1a94641c1680f1",
            "max": 100,
            "min": 0,
            "orientation": "horizontal",
            "style": "IPY_MODEL_0735aecf2d8543959cad3f1798249979",
            "value": 100
          }
        },
        "50ccafb32c8e44bbb25ffc8bade51116": {
          "model_module": "@jupyter-widgets/controls",
          "model_name": "HTMLModel",
          "model_module_version": "1.5.0",
          "state": {
            "_dom_classes": [],
            "_model_module": "@jupyter-widgets/controls",
            "_model_module_version": "1.5.0",
            "_model_name": "HTMLModel",
            "_view_count": null,
            "_view_module": "@jupyter-widgets/controls",
            "_view_module_version": "1.5.0",
            "_view_name": "HTMLView",
            "description": "",
            "description_tooltip": null,
            "layout": "IPY_MODEL_441c668da5e548f6bdd564495e243024",
            "placeholder": "​",
            "style": "IPY_MODEL_6130caf1a4024a2f86c8f9d713bb9638",
            "value": " 100/100 [00:00&lt;00:00, 427.16it/s]"
          }
        },
        "28ebc48ff1054845bfe22565c420dc98": {
          "model_module": "@jupyter-widgets/base",
          "model_name": "LayoutModel",
          "model_module_version": "1.2.0",
          "state": {
            "_model_module": "@jupyter-widgets/base",
            "_model_module_version": "1.2.0",
            "_model_name": "LayoutModel",
            "_view_count": null,
            "_view_module": "@jupyter-widgets/base",
            "_view_module_version": "1.2.0",
            "_view_name": "LayoutView",
            "align_content": null,
            "align_items": null,
            "align_self": null,
            "border": null,
            "bottom": null,
            "display": null,
            "flex": null,
            "flex_flow": null,
            "grid_area": null,
            "grid_auto_columns": null,
            "grid_auto_flow": null,
            "grid_auto_rows": null,
            "grid_column": null,
            "grid_gap": null,
            "grid_row": null,
            "grid_template_areas": null,
            "grid_template_columns": null,
            "grid_template_rows": null,
            "height": null,
            "justify_content": null,
            "justify_items": null,
            "left": null,
            "margin": null,
            "max_height": null,
            "max_width": null,
            "min_height": null,
            "min_width": null,
            "object_fit": null,
            "object_position": null,
            "order": null,
            "overflow": null,
            "overflow_x": null,
            "overflow_y": null,
            "padding": null,
            "right": null,
            "top": null,
            "visibility": null,
            "width": null
          }
        },
        "224608f888274b82a1ba133f22d1487e": {
          "model_module": "@jupyter-widgets/base",
          "model_name": "LayoutModel",
          "model_module_version": "1.2.0",
          "state": {
            "_model_module": "@jupyter-widgets/base",
            "_model_module_version": "1.2.0",
            "_model_name": "LayoutModel",
            "_view_count": null,
            "_view_module": "@jupyter-widgets/base",
            "_view_module_version": "1.2.0",
            "_view_name": "LayoutView",
            "align_content": null,
            "align_items": null,
            "align_self": null,
            "border": null,
            "bottom": null,
            "display": null,
            "flex": null,
            "flex_flow": null,
            "grid_area": null,
            "grid_auto_columns": null,
            "grid_auto_flow": null,
            "grid_auto_rows": null,
            "grid_column": null,
            "grid_gap": null,
            "grid_row": null,
            "grid_template_areas": null,
            "grid_template_columns": null,
            "grid_template_rows": null,
            "height": null,
            "justify_content": null,
            "justify_items": null,
            "left": null,
            "margin": null,
            "max_height": null,
            "max_width": null,
            "min_height": null,
            "min_width": null,
            "object_fit": null,
            "object_position": null,
            "order": null,
            "overflow": null,
            "overflow_x": null,
            "overflow_y": null,
            "padding": null,
            "right": null,
            "top": null,
            "visibility": null,
            "width": null
          }
        },
        "34ca0333a8824cbf9cb13c213f34746e": {
          "model_module": "@jupyter-widgets/controls",
          "model_name": "DescriptionStyleModel",
          "model_module_version": "1.5.0",
          "state": {
            "_model_module": "@jupyter-widgets/controls",
            "_model_module_version": "1.5.0",
            "_model_name": "DescriptionStyleModel",
            "_view_count": null,
            "_view_module": "@jupyter-widgets/base",
            "_view_module_version": "1.2.0",
            "_view_name": "StyleView",
            "description_width": ""
          }
        },
        "b3d815ac6ef34cabaf1a94641c1680f1": {
          "model_module": "@jupyter-widgets/base",
          "model_name": "LayoutModel",
          "model_module_version": "1.2.0",
          "state": {
            "_model_module": "@jupyter-widgets/base",
            "_model_module_version": "1.2.0",
            "_model_name": "LayoutModel",
            "_view_count": null,
            "_view_module": "@jupyter-widgets/base",
            "_view_module_version": "1.2.0",
            "_view_name": "LayoutView",
            "align_content": null,
            "align_items": null,
            "align_self": null,
            "border": null,
            "bottom": null,
            "display": null,
            "flex": null,
            "flex_flow": null,
            "grid_area": null,
            "grid_auto_columns": null,
            "grid_auto_flow": null,
            "grid_auto_rows": null,
            "grid_column": null,
            "grid_gap": null,
            "grid_row": null,
            "grid_template_areas": null,
            "grid_template_columns": null,
            "grid_template_rows": null,
            "height": null,
            "justify_content": null,
            "justify_items": null,
            "left": null,
            "margin": null,
            "max_height": null,
            "max_width": null,
            "min_height": null,
            "min_width": null,
            "object_fit": null,
            "object_position": null,
            "order": null,
            "overflow": null,
            "overflow_x": null,
            "overflow_y": null,
            "padding": null,
            "right": null,
            "top": null,
            "visibility": null,
            "width": null
          }
        },
        "0735aecf2d8543959cad3f1798249979": {
          "model_module": "@jupyter-widgets/controls",
          "model_name": "ProgressStyleModel",
          "model_module_version": "1.5.0",
          "state": {
            "_model_module": "@jupyter-widgets/controls",
            "_model_module_version": "1.5.0",
            "_model_name": "ProgressStyleModel",
            "_view_count": null,
            "_view_module": "@jupyter-widgets/base",
            "_view_module_version": "1.2.0",
            "_view_name": "StyleView",
            "bar_color": null,
            "description_width": ""
          }
        },
        "441c668da5e548f6bdd564495e243024": {
          "model_module": "@jupyter-widgets/base",
          "model_name": "LayoutModel",
          "model_module_version": "1.2.0",
          "state": {
            "_model_module": "@jupyter-widgets/base",
            "_model_module_version": "1.2.0",
            "_model_name": "LayoutModel",
            "_view_count": null,
            "_view_module": "@jupyter-widgets/base",
            "_view_module_version": "1.2.0",
            "_view_name": "LayoutView",
            "align_content": null,
            "align_items": null,
            "align_self": null,
            "border": null,
            "bottom": null,
            "display": null,
            "flex": null,
            "flex_flow": null,
            "grid_area": null,
            "grid_auto_columns": null,
            "grid_auto_flow": null,
            "grid_auto_rows": null,
            "grid_column": null,
            "grid_gap": null,
            "grid_row": null,
            "grid_template_areas": null,
            "grid_template_columns": null,
            "grid_template_rows": null,
            "height": null,
            "justify_content": null,
            "justify_items": null,
            "left": null,
            "margin": null,
            "max_height": null,
            "max_width": null,
            "min_height": null,
            "min_width": null,
            "object_fit": null,
            "object_position": null,
            "order": null,
            "overflow": null,
            "overflow_x": null,
            "overflow_y": null,
            "padding": null,
            "right": null,
            "top": null,
            "visibility": null,
            "width": null
          }
        },
        "6130caf1a4024a2f86c8f9d713bb9638": {
          "model_module": "@jupyter-widgets/controls",
          "model_name": "DescriptionStyleModel",
          "model_module_version": "1.5.0",
          "state": {
            "_model_module": "@jupyter-widgets/controls",
            "_model_module_version": "1.5.0",
            "_model_name": "DescriptionStyleModel",
            "_view_count": null,
            "_view_module": "@jupyter-widgets/base",
            "_view_module_version": "1.2.0",
            "_view_name": "StyleView",
            "description_width": ""
          }
        },
        "30147744d148459abe1caddf532270ad": {
          "model_module": "@jupyter-widgets/controls",
          "model_name": "HBoxModel",
          "model_module_version": "1.5.0",
          "state": {
            "_dom_classes": [],
            "_model_module": "@jupyter-widgets/controls",
            "_model_module_version": "1.5.0",
            "_model_name": "HBoxModel",
            "_view_count": null,
            "_view_module": "@jupyter-widgets/controls",
            "_view_module_version": "1.5.0",
            "_view_name": "HBoxView",
            "box_style": "",
            "children": [
              "IPY_MODEL_f26aae6d3add4698a101d10a20f1da6f",
              "IPY_MODEL_d1755b8ba21d47bca61d46b9f787ca3e",
              "IPY_MODEL_108204e94ca646be95bd8a4e6482706f"
            ],
            "layout": "IPY_MODEL_bb68d77073e24000899dfa89717481e7"
          }
        },
        "f26aae6d3add4698a101d10a20f1da6f": {
          "model_module": "@jupyter-widgets/controls",
          "model_name": "HTMLModel",
          "model_module_version": "1.5.0",
          "state": {
            "_dom_classes": [],
            "_model_module": "@jupyter-widgets/controls",
            "_model_module_version": "1.5.0",
            "_model_name": "HTMLModel",
            "_view_count": null,
            "_view_module": "@jupyter-widgets/controls",
            "_view_module_version": "1.5.0",
            "_view_name": "HTMLView",
            "description": "",
            "description_tooltip": null,
            "layout": "IPY_MODEL_b46f25a1678d42168e696f96ab0e93ab",
            "placeholder": "​",
            "style": "IPY_MODEL_b925b5f4e23e42d2b12dbdc19f858673",
            "value": "100%"
          }
        },
        "d1755b8ba21d47bca61d46b9f787ca3e": {
          "model_module": "@jupyter-widgets/controls",
          "model_name": "FloatProgressModel",
          "model_module_version": "1.5.0",
          "state": {
            "_dom_classes": [],
            "_model_module": "@jupyter-widgets/controls",
            "_model_module_version": "1.5.0",
            "_model_name": "FloatProgressModel",
            "_view_count": null,
            "_view_module": "@jupyter-widgets/controls",
            "_view_module_version": "1.5.0",
            "_view_name": "ProgressView",
            "bar_style": "success",
            "description": "",
            "description_tooltip": null,
            "layout": "IPY_MODEL_103b6d87e2d84a95a71ab438009eb09c",
            "max": 100,
            "min": 0,
            "orientation": "horizontal",
            "style": "IPY_MODEL_039670f457174eacbf683980184212cb",
            "value": 100
          }
        },
        "108204e94ca646be95bd8a4e6482706f": {
          "model_module": "@jupyter-widgets/controls",
          "model_name": "HTMLModel",
          "model_module_version": "1.5.0",
          "state": {
            "_dom_classes": [],
            "_model_module": "@jupyter-widgets/controls",
            "_model_module_version": "1.5.0",
            "_model_name": "HTMLModel",
            "_view_count": null,
            "_view_module": "@jupyter-widgets/controls",
            "_view_module_version": "1.5.0",
            "_view_name": "HTMLView",
            "description": "",
            "description_tooltip": null,
            "layout": "IPY_MODEL_c5a622fd71394648a41cd8651707f924",
            "placeholder": "​",
            "style": "IPY_MODEL_9f785f8d60b24edfbd496e16be1976b7",
            "value": " 100/100 [00:00&lt;00:00, 547.54it/s]"
          }
        },
        "bb68d77073e24000899dfa89717481e7": {
          "model_module": "@jupyter-widgets/base",
          "model_name": "LayoutModel",
          "model_module_version": "1.2.0",
          "state": {
            "_model_module": "@jupyter-widgets/base",
            "_model_module_version": "1.2.0",
            "_model_name": "LayoutModel",
            "_view_count": null,
            "_view_module": "@jupyter-widgets/base",
            "_view_module_version": "1.2.0",
            "_view_name": "LayoutView",
            "align_content": null,
            "align_items": null,
            "align_self": null,
            "border": null,
            "bottom": null,
            "display": null,
            "flex": null,
            "flex_flow": null,
            "grid_area": null,
            "grid_auto_columns": null,
            "grid_auto_flow": null,
            "grid_auto_rows": null,
            "grid_column": null,
            "grid_gap": null,
            "grid_row": null,
            "grid_template_areas": null,
            "grid_template_columns": null,
            "grid_template_rows": null,
            "height": null,
            "justify_content": null,
            "justify_items": null,
            "left": null,
            "margin": null,
            "max_height": null,
            "max_width": null,
            "min_height": null,
            "min_width": null,
            "object_fit": null,
            "object_position": null,
            "order": null,
            "overflow": null,
            "overflow_x": null,
            "overflow_y": null,
            "padding": null,
            "right": null,
            "top": null,
            "visibility": null,
            "width": null
          }
        },
        "b46f25a1678d42168e696f96ab0e93ab": {
          "model_module": "@jupyter-widgets/base",
          "model_name": "LayoutModel",
          "model_module_version": "1.2.0",
          "state": {
            "_model_module": "@jupyter-widgets/base",
            "_model_module_version": "1.2.0",
            "_model_name": "LayoutModel",
            "_view_count": null,
            "_view_module": "@jupyter-widgets/base",
            "_view_module_version": "1.2.0",
            "_view_name": "LayoutView",
            "align_content": null,
            "align_items": null,
            "align_self": null,
            "border": null,
            "bottom": null,
            "display": null,
            "flex": null,
            "flex_flow": null,
            "grid_area": null,
            "grid_auto_columns": null,
            "grid_auto_flow": null,
            "grid_auto_rows": null,
            "grid_column": null,
            "grid_gap": null,
            "grid_row": null,
            "grid_template_areas": null,
            "grid_template_columns": null,
            "grid_template_rows": null,
            "height": null,
            "justify_content": null,
            "justify_items": null,
            "left": null,
            "margin": null,
            "max_height": null,
            "max_width": null,
            "min_height": null,
            "min_width": null,
            "object_fit": null,
            "object_position": null,
            "order": null,
            "overflow": null,
            "overflow_x": null,
            "overflow_y": null,
            "padding": null,
            "right": null,
            "top": null,
            "visibility": null,
            "width": null
          }
        },
        "b925b5f4e23e42d2b12dbdc19f858673": {
          "model_module": "@jupyter-widgets/controls",
          "model_name": "DescriptionStyleModel",
          "model_module_version": "1.5.0",
          "state": {
            "_model_module": "@jupyter-widgets/controls",
            "_model_module_version": "1.5.0",
            "_model_name": "DescriptionStyleModel",
            "_view_count": null,
            "_view_module": "@jupyter-widgets/base",
            "_view_module_version": "1.2.0",
            "_view_name": "StyleView",
            "description_width": ""
          }
        },
        "103b6d87e2d84a95a71ab438009eb09c": {
          "model_module": "@jupyter-widgets/base",
          "model_name": "LayoutModel",
          "model_module_version": "1.2.0",
          "state": {
            "_model_module": "@jupyter-widgets/base",
            "_model_module_version": "1.2.0",
            "_model_name": "LayoutModel",
            "_view_count": null,
            "_view_module": "@jupyter-widgets/base",
            "_view_module_version": "1.2.0",
            "_view_name": "LayoutView",
            "align_content": null,
            "align_items": null,
            "align_self": null,
            "border": null,
            "bottom": null,
            "display": null,
            "flex": null,
            "flex_flow": null,
            "grid_area": null,
            "grid_auto_columns": null,
            "grid_auto_flow": null,
            "grid_auto_rows": null,
            "grid_column": null,
            "grid_gap": null,
            "grid_row": null,
            "grid_template_areas": null,
            "grid_template_columns": null,
            "grid_template_rows": null,
            "height": null,
            "justify_content": null,
            "justify_items": null,
            "left": null,
            "margin": null,
            "max_height": null,
            "max_width": null,
            "min_height": null,
            "min_width": null,
            "object_fit": null,
            "object_position": null,
            "order": null,
            "overflow": null,
            "overflow_x": null,
            "overflow_y": null,
            "padding": null,
            "right": null,
            "top": null,
            "visibility": null,
            "width": null
          }
        },
        "039670f457174eacbf683980184212cb": {
          "model_module": "@jupyter-widgets/controls",
          "model_name": "ProgressStyleModel",
          "model_module_version": "1.5.0",
          "state": {
            "_model_module": "@jupyter-widgets/controls",
            "_model_module_version": "1.5.0",
            "_model_name": "ProgressStyleModel",
            "_view_count": null,
            "_view_module": "@jupyter-widgets/base",
            "_view_module_version": "1.2.0",
            "_view_name": "StyleView",
            "bar_color": null,
            "description_width": ""
          }
        },
        "c5a622fd71394648a41cd8651707f924": {
          "model_module": "@jupyter-widgets/base",
          "model_name": "LayoutModel",
          "model_module_version": "1.2.0",
          "state": {
            "_model_module": "@jupyter-widgets/base",
            "_model_module_version": "1.2.0",
            "_model_name": "LayoutModel",
            "_view_count": null,
            "_view_module": "@jupyter-widgets/base",
            "_view_module_version": "1.2.0",
            "_view_name": "LayoutView",
            "align_content": null,
            "align_items": null,
            "align_self": null,
            "border": null,
            "bottom": null,
            "display": null,
            "flex": null,
            "flex_flow": null,
            "grid_area": null,
            "grid_auto_columns": null,
            "grid_auto_flow": null,
            "grid_auto_rows": null,
            "grid_column": null,
            "grid_gap": null,
            "grid_row": null,
            "grid_template_areas": null,
            "grid_template_columns": null,
            "grid_template_rows": null,
            "height": null,
            "justify_content": null,
            "justify_items": null,
            "left": null,
            "margin": null,
            "max_height": null,
            "max_width": null,
            "min_height": null,
            "min_width": null,
            "object_fit": null,
            "object_position": null,
            "order": null,
            "overflow": null,
            "overflow_x": null,
            "overflow_y": null,
            "padding": null,
            "right": null,
            "top": null,
            "visibility": null,
            "width": null
          }
        },
        "9f785f8d60b24edfbd496e16be1976b7": {
          "model_module": "@jupyter-widgets/controls",
          "model_name": "DescriptionStyleModel",
          "model_module_version": "1.5.0",
          "state": {
            "_model_module": "@jupyter-widgets/controls",
            "_model_module_version": "1.5.0",
            "_model_name": "DescriptionStyleModel",
            "_view_count": null,
            "_view_module": "@jupyter-widgets/base",
            "_view_module_version": "1.2.0",
            "_view_name": "StyleView",
            "description_width": ""
          }
        }
      }
    }
  },
  "cells": [
    {
      "cell_type": "markdown",
      "source": [
        "# Linear Regression on Wine Dataset.\n",
        "\n",
        "We have the Wine Quality dataset from [UCI's Machine Learning Repository](https://archive.ics.uci.edu/dataset/186/wine+quality). The goal is to model wine quality based on physicochemical tests."
      ],
      "metadata": {
        "id": "46PrZvrfEexB"
      }
    },
    {
      "cell_type": "code",
      "execution_count": 10,
      "metadata": {
        "id": "cUhjxNt-EbX8"
      },
      "outputs": [],
      "source": [
        "from google.colab import drive\n",
        "import pandas as pd\n",
        "import numpy as np\n",
        "import matplotlib.pyplot as plt\n",
        "import torch\n",
        "from torch import nn\n",
        "from sklearn.model_selection import train_test_split\n",
        "from sklearn.preprocessing import StandardScaler\n",
        "from tqdm.auto import tqdm"
      ]
    },
    {
      "cell_type": "code",
      "source": [],
      "metadata": {
        "id": "26deypA0HQtB"
      },
      "execution_count": 10,
      "outputs": []
    },
    {
      "cell_type": "code",
      "source": [
        "path = '/content/gdrive/MyDrive/Datasets/UCI_Wine_Quality/'"
      ],
      "metadata": {
        "id": "5eC70yF_IpE9"
      },
      "execution_count": 11,
      "outputs": []
    },
    {
      "cell_type": "code",
      "source": [
        "col_name = ['class' , 'Alcohol' , 'Malic acid' , 'Ash', 'Alcalinity of ash', 'Magnesium', 'Total phenols', 'Flavanoids'\n",
        "            ,'Nonflavanoid phenols' , 'Proanthocyanins' , 'Color intensity', 'Hue', 'OD280/OD315', 'Proline']\n",
        "\n",
        "df = pd.read_csv('wine.data', delimiter=',', names = col_name)\n",
        "\n",
        "def pl(x):\n",
        "  return x-1\n",
        "\n",
        "df['class']=df['class'].apply(pl)\n"
      ],
      "metadata": {
        "id": "D3RuZakKJP_C"
      },
      "execution_count": 12,
      "outputs": []
    },
    {
      "cell_type": "code",
      "source": [],
      "metadata": {
        "id": "YYpiv15Illnh"
      },
      "execution_count": 12,
      "outputs": []
    },
    {
      "cell_type": "code",
      "source": [
        "df.dtypes"
      ],
      "metadata": {
        "colab": {
          "base_uri": "https://localhost:8080/"
        },
        "id": "hca7_9g3Jev-",
        "outputId": "7c625997-ec7e-481b-ae69-97f7994ce456"
      },
      "execution_count": 13,
      "outputs": [
        {
          "output_type": "execute_result",
          "data": {
            "text/plain": [
              "class                     int64\n",
              "Alcohol                 float64\n",
              "Malic acid              float64\n",
              "Ash                     float64\n",
              "Alcalinity of ash       float64\n",
              "Magnesium                 int64\n",
              "Total phenols           float64\n",
              "Flavanoids              float64\n",
              "Nonflavanoid phenols    float64\n",
              "Proanthocyanins         float64\n",
              "Color intensity         float64\n",
              "Hue                     float64\n",
              "OD280/OD315             float64\n",
              "Proline                   int64\n",
              "dtype: object"
            ]
          },
          "metadata": {},
          "execution_count": 13
        }
      ]
    },
    {
      "cell_type": "code",
      "source": [
        "df.describe()"
      ],
      "metadata": {
        "colab": {
          "base_uri": "https://localhost:8080/",
          "height": 338
        },
        "id": "66LFRBN-OPZD",
        "outputId": "30843e28-8c65-4bf3-9512-dd0b75c85275"
      },
      "execution_count": 14,
      "outputs": [
        {
          "output_type": "execute_result",
          "data": {
            "text/plain": [
              "            class     Alcohol  Malic acid         Ash  Alcalinity of ash  \\\n",
              "count  178.000000  178.000000  178.000000  178.000000         178.000000   \n",
              "mean     0.938202   13.000618    2.336348    2.366517          19.494944   \n",
              "std      0.775035    0.811827    1.117146    0.274344           3.339564   \n",
              "min      0.000000   11.030000    0.740000    1.360000          10.600000   \n",
              "25%      0.000000   12.362500    1.602500    2.210000          17.200000   \n",
              "50%      1.000000   13.050000    1.865000    2.360000          19.500000   \n",
              "75%      2.000000   13.677500    3.082500    2.557500          21.500000   \n",
              "max      2.000000   14.830000    5.800000    3.230000          30.000000   \n",
              "\n",
              "        Magnesium  Total phenols  Flavanoids  Nonflavanoid phenols  \\\n",
              "count  178.000000     178.000000  178.000000            178.000000   \n",
              "mean    99.741573       2.295112    2.029270              0.361854   \n",
              "std     14.282484       0.625851    0.998859              0.124453   \n",
              "min     70.000000       0.980000    0.340000              0.130000   \n",
              "25%     88.000000       1.742500    1.205000              0.270000   \n",
              "50%     98.000000       2.355000    2.135000              0.340000   \n",
              "75%    107.000000       2.800000    2.875000              0.437500   \n",
              "max    162.000000       3.880000    5.080000              0.660000   \n",
              "\n",
              "       Proanthocyanins  Color intensity         Hue  OD280/OD315      Proline  \n",
              "count       178.000000       178.000000  178.000000   178.000000   178.000000  \n",
              "mean          1.590899         5.058090    0.957449     2.611685   746.893258  \n",
              "std           0.572359         2.318286    0.228572     0.709990   314.907474  \n",
              "min           0.410000         1.280000    0.480000     1.270000   278.000000  \n",
              "25%           1.250000         3.220000    0.782500     1.937500   500.500000  \n",
              "50%           1.555000         4.690000    0.965000     2.780000   673.500000  \n",
              "75%           1.950000         6.200000    1.120000     3.170000   985.000000  \n",
              "max           3.580000        13.000000    1.710000     4.000000  1680.000000  "
            ],
            "text/html": [
              "\n",
              "  <div id=\"df-f26e4e38-1ced-4ab8-952d-912b50509a4e\" class=\"colab-df-container\">\n",
              "    <div>\n",
              "<style scoped>\n",
              "    .dataframe tbody tr th:only-of-type {\n",
              "        vertical-align: middle;\n",
              "    }\n",
              "\n",
              "    .dataframe tbody tr th {\n",
              "        vertical-align: top;\n",
              "    }\n",
              "\n",
              "    .dataframe thead th {\n",
              "        text-align: right;\n",
              "    }\n",
              "</style>\n",
              "<table border=\"1\" class=\"dataframe\">\n",
              "  <thead>\n",
              "    <tr style=\"text-align: right;\">\n",
              "      <th></th>\n",
              "      <th>class</th>\n",
              "      <th>Alcohol</th>\n",
              "      <th>Malic acid</th>\n",
              "      <th>Ash</th>\n",
              "      <th>Alcalinity of ash</th>\n",
              "      <th>Magnesium</th>\n",
              "      <th>Total phenols</th>\n",
              "      <th>Flavanoids</th>\n",
              "      <th>Nonflavanoid phenols</th>\n",
              "      <th>Proanthocyanins</th>\n",
              "      <th>Color intensity</th>\n",
              "      <th>Hue</th>\n",
              "      <th>OD280/OD315</th>\n",
              "      <th>Proline</th>\n",
              "    </tr>\n",
              "  </thead>\n",
              "  <tbody>\n",
              "    <tr>\n",
              "      <th>count</th>\n",
              "      <td>178.000000</td>\n",
              "      <td>178.000000</td>\n",
              "      <td>178.000000</td>\n",
              "      <td>178.000000</td>\n",
              "      <td>178.000000</td>\n",
              "      <td>178.000000</td>\n",
              "      <td>178.000000</td>\n",
              "      <td>178.000000</td>\n",
              "      <td>178.000000</td>\n",
              "      <td>178.000000</td>\n",
              "      <td>178.000000</td>\n",
              "      <td>178.000000</td>\n",
              "      <td>178.000000</td>\n",
              "      <td>178.000000</td>\n",
              "    </tr>\n",
              "    <tr>\n",
              "      <th>mean</th>\n",
              "      <td>0.938202</td>\n",
              "      <td>13.000618</td>\n",
              "      <td>2.336348</td>\n",
              "      <td>2.366517</td>\n",
              "      <td>19.494944</td>\n",
              "      <td>99.741573</td>\n",
              "      <td>2.295112</td>\n",
              "      <td>2.029270</td>\n",
              "      <td>0.361854</td>\n",
              "      <td>1.590899</td>\n",
              "      <td>5.058090</td>\n",
              "      <td>0.957449</td>\n",
              "      <td>2.611685</td>\n",
              "      <td>746.893258</td>\n",
              "    </tr>\n",
              "    <tr>\n",
              "      <th>std</th>\n",
              "      <td>0.775035</td>\n",
              "      <td>0.811827</td>\n",
              "      <td>1.117146</td>\n",
              "      <td>0.274344</td>\n",
              "      <td>3.339564</td>\n",
              "      <td>14.282484</td>\n",
              "      <td>0.625851</td>\n",
              "      <td>0.998859</td>\n",
              "      <td>0.124453</td>\n",
              "      <td>0.572359</td>\n",
              "      <td>2.318286</td>\n",
              "      <td>0.228572</td>\n",
              "      <td>0.709990</td>\n",
              "      <td>314.907474</td>\n",
              "    </tr>\n",
              "    <tr>\n",
              "      <th>min</th>\n",
              "      <td>0.000000</td>\n",
              "      <td>11.030000</td>\n",
              "      <td>0.740000</td>\n",
              "      <td>1.360000</td>\n",
              "      <td>10.600000</td>\n",
              "      <td>70.000000</td>\n",
              "      <td>0.980000</td>\n",
              "      <td>0.340000</td>\n",
              "      <td>0.130000</td>\n",
              "      <td>0.410000</td>\n",
              "      <td>1.280000</td>\n",
              "      <td>0.480000</td>\n",
              "      <td>1.270000</td>\n",
              "      <td>278.000000</td>\n",
              "    </tr>\n",
              "    <tr>\n",
              "      <th>25%</th>\n",
              "      <td>0.000000</td>\n",
              "      <td>12.362500</td>\n",
              "      <td>1.602500</td>\n",
              "      <td>2.210000</td>\n",
              "      <td>17.200000</td>\n",
              "      <td>88.000000</td>\n",
              "      <td>1.742500</td>\n",
              "      <td>1.205000</td>\n",
              "      <td>0.270000</td>\n",
              "      <td>1.250000</td>\n",
              "      <td>3.220000</td>\n",
              "      <td>0.782500</td>\n",
              "      <td>1.937500</td>\n",
              "      <td>500.500000</td>\n",
              "    </tr>\n",
              "    <tr>\n",
              "      <th>50%</th>\n",
              "      <td>1.000000</td>\n",
              "      <td>13.050000</td>\n",
              "      <td>1.865000</td>\n",
              "      <td>2.360000</td>\n",
              "      <td>19.500000</td>\n",
              "      <td>98.000000</td>\n",
              "      <td>2.355000</td>\n",
              "      <td>2.135000</td>\n",
              "      <td>0.340000</td>\n",
              "      <td>1.555000</td>\n",
              "      <td>4.690000</td>\n",
              "      <td>0.965000</td>\n",
              "      <td>2.780000</td>\n",
              "      <td>673.500000</td>\n",
              "    </tr>\n",
              "    <tr>\n",
              "      <th>75%</th>\n",
              "      <td>2.000000</td>\n",
              "      <td>13.677500</td>\n",
              "      <td>3.082500</td>\n",
              "      <td>2.557500</td>\n",
              "      <td>21.500000</td>\n",
              "      <td>107.000000</td>\n",
              "      <td>2.800000</td>\n",
              "      <td>2.875000</td>\n",
              "      <td>0.437500</td>\n",
              "      <td>1.950000</td>\n",
              "      <td>6.200000</td>\n",
              "      <td>1.120000</td>\n",
              "      <td>3.170000</td>\n",
              "      <td>985.000000</td>\n",
              "    </tr>\n",
              "    <tr>\n",
              "      <th>max</th>\n",
              "      <td>2.000000</td>\n",
              "      <td>14.830000</td>\n",
              "      <td>5.800000</td>\n",
              "      <td>3.230000</td>\n",
              "      <td>30.000000</td>\n",
              "      <td>162.000000</td>\n",
              "      <td>3.880000</td>\n",
              "      <td>5.080000</td>\n",
              "      <td>0.660000</td>\n",
              "      <td>3.580000</td>\n",
              "      <td>13.000000</td>\n",
              "      <td>1.710000</td>\n",
              "      <td>4.000000</td>\n",
              "      <td>1680.000000</td>\n",
              "    </tr>\n",
              "  </tbody>\n",
              "</table>\n",
              "</div>\n",
              "    <div class=\"colab-df-buttons\">\n",
              "\n",
              "  <div class=\"colab-df-container\">\n",
              "    <button class=\"colab-df-convert\" onclick=\"convertToInteractive('df-f26e4e38-1ced-4ab8-952d-912b50509a4e')\"\n",
              "            title=\"Convert this dataframe to an interactive table.\"\n",
              "            style=\"display:none;\">\n",
              "\n",
              "  <svg xmlns=\"http://www.w3.org/2000/svg\" height=\"24px\" viewBox=\"0 -960 960 960\">\n",
              "    <path d=\"M120-120v-720h720v720H120Zm60-500h600v-160H180v160Zm220 220h160v-160H400v160Zm0 220h160v-160H400v160ZM180-400h160v-160H180v160Zm440 0h160v-160H620v160ZM180-180h160v-160H180v160Zm440 0h160v-160H620v160Z\"/>\n",
              "  </svg>\n",
              "    </button>\n",
              "\n",
              "  <style>\n",
              "    .colab-df-container {\n",
              "      display:flex;\n",
              "      gap: 12px;\n",
              "    }\n",
              "\n",
              "    .colab-df-convert {\n",
              "      background-color: #E8F0FE;\n",
              "      border: none;\n",
              "      border-radius: 50%;\n",
              "      cursor: pointer;\n",
              "      display: none;\n",
              "      fill: #1967D2;\n",
              "      height: 32px;\n",
              "      padding: 0 0 0 0;\n",
              "      width: 32px;\n",
              "    }\n",
              "\n",
              "    .colab-df-convert:hover {\n",
              "      background-color: #E2EBFA;\n",
              "      box-shadow: 0px 1px 2px rgba(60, 64, 67, 0.3), 0px 1px 3px 1px rgba(60, 64, 67, 0.15);\n",
              "      fill: #174EA6;\n",
              "    }\n",
              "\n",
              "    .colab-df-buttons div {\n",
              "      margin-bottom: 4px;\n",
              "    }\n",
              "\n",
              "    [theme=dark] .colab-df-convert {\n",
              "      background-color: #3B4455;\n",
              "      fill: #D2E3FC;\n",
              "    }\n",
              "\n",
              "    [theme=dark] .colab-df-convert:hover {\n",
              "      background-color: #434B5C;\n",
              "      box-shadow: 0px 1px 3px 1px rgba(0, 0, 0, 0.15);\n",
              "      filter: drop-shadow(0px 1px 2px rgba(0, 0, 0, 0.3));\n",
              "      fill: #FFFFFF;\n",
              "    }\n",
              "  </style>\n",
              "\n",
              "    <script>\n",
              "      const buttonEl =\n",
              "        document.querySelector('#df-f26e4e38-1ced-4ab8-952d-912b50509a4e button.colab-df-convert');\n",
              "      buttonEl.style.display =\n",
              "        google.colab.kernel.accessAllowed ? 'block' : 'none';\n",
              "\n",
              "      async function convertToInteractive(key) {\n",
              "        const element = document.querySelector('#df-f26e4e38-1ced-4ab8-952d-912b50509a4e');\n",
              "        const dataTable =\n",
              "          await google.colab.kernel.invokeFunction('convertToInteractive',\n",
              "                                                    [key], {});\n",
              "        if (!dataTable) return;\n",
              "\n",
              "        const docLinkHtml = 'Like what you see? Visit the ' +\n",
              "          '<a target=\"_blank\" href=https://colab.research.google.com/notebooks/data_table.ipynb>data table notebook</a>'\n",
              "          + ' to learn more about interactive tables.';\n",
              "        element.innerHTML = '';\n",
              "        dataTable['output_type'] = 'display_data';\n",
              "        await google.colab.output.renderOutput(dataTable, element);\n",
              "        const docLink = document.createElement('div');\n",
              "        docLink.innerHTML = docLinkHtml;\n",
              "        element.appendChild(docLink);\n",
              "      }\n",
              "    </script>\n",
              "  </div>\n",
              "\n",
              "\n",
              "<div id=\"df-5906fa04-858c-4ca9-b212-f5733b88f64f\">\n",
              "  <button class=\"colab-df-quickchart\" onclick=\"quickchart('df-5906fa04-858c-4ca9-b212-f5733b88f64f')\"\n",
              "            title=\"Suggest charts\"\n",
              "            style=\"display:none;\">\n",
              "\n",
              "<svg xmlns=\"http://www.w3.org/2000/svg\" height=\"24px\"viewBox=\"0 0 24 24\"\n",
              "     width=\"24px\">\n",
              "    <g>\n",
              "        <path d=\"M19 3H5c-1.1 0-2 .9-2 2v14c0 1.1.9 2 2 2h14c1.1 0 2-.9 2-2V5c0-1.1-.9-2-2-2zM9 17H7v-7h2v7zm4 0h-2V7h2v10zm4 0h-2v-4h2v4z\"/>\n",
              "    </g>\n",
              "</svg>\n",
              "  </button>\n",
              "\n",
              "<style>\n",
              "  .colab-df-quickchart {\n",
              "      --bg-color: #E8F0FE;\n",
              "      --fill-color: #1967D2;\n",
              "      --hover-bg-color: #E2EBFA;\n",
              "      --hover-fill-color: #174EA6;\n",
              "      --disabled-fill-color: #AAA;\n",
              "      --disabled-bg-color: #DDD;\n",
              "  }\n",
              "\n",
              "  [theme=dark] .colab-df-quickchart {\n",
              "      --bg-color: #3B4455;\n",
              "      --fill-color: #D2E3FC;\n",
              "      --hover-bg-color: #434B5C;\n",
              "      --hover-fill-color: #FFFFFF;\n",
              "      --disabled-bg-color: #3B4455;\n",
              "      --disabled-fill-color: #666;\n",
              "  }\n",
              "\n",
              "  .colab-df-quickchart {\n",
              "    background-color: var(--bg-color);\n",
              "    border: none;\n",
              "    border-radius: 50%;\n",
              "    cursor: pointer;\n",
              "    display: none;\n",
              "    fill: var(--fill-color);\n",
              "    height: 32px;\n",
              "    padding: 0;\n",
              "    width: 32px;\n",
              "  }\n",
              "\n",
              "  .colab-df-quickchart:hover {\n",
              "    background-color: var(--hover-bg-color);\n",
              "    box-shadow: 0 1px 2px rgba(60, 64, 67, 0.3), 0 1px 3px 1px rgba(60, 64, 67, 0.15);\n",
              "    fill: var(--button-hover-fill-color);\n",
              "  }\n",
              "\n",
              "  .colab-df-quickchart-complete:disabled,\n",
              "  .colab-df-quickchart-complete:disabled:hover {\n",
              "    background-color: var(--disabled-bg-color);\n",
              "    fill: var(--disabled-fill-color);\n",
              "    box-shadow: none;\n",
              "  }\n",
              "\n",
              "  .colab-df-spinner {\n",
              "    border: 2px solid var(--fill-color);\n",
              "    border-color: transparent;\n",
              "    border-bottom-color: var(--fill-color);\n",
              "    animation:\n",
              "      spin 1s steps(1) infinite;\n",
              "  }\n",
              "\n",
              "  @keyframes spin {\n",
              "    0% {\n",
              "      border-color: transparent;\n",
              "      border-bottom-color: var(--fill-color);\n",
              "      border-left-color: var(--fill-color);\n",
              "    }\n",
              "    20% {\n",
              "      border-color: transparent;\n",
              "      border-left-color: var(--fill-color);\n",
              "      border-top-color: var(--fill-color);\n",
              "    }\n",
              "    30% {\n",
              "      border-color: transparent;\n",
              "      border-left-color: var(--fill-color);\n",
              "      border-top-color: var(--fill-color);\n",
              "      border-right-color: var(--fill-color);\n",
              "    }\n",
              "    40% {\n",
              "      border-color: transparent;\n",
              "      border-right-color: var(--fill-color);\n",
              "      border-top-color: var(--fill-color);\n",
              "    }\n",
              "    60% {\n",
              "      border-color: transparent;\n",
              "      border-right-color: var(--fill-color);\n",
              "    }\n",
              "    80% {\n",
              "      border-color: transparent;\n",
              "      border-right-color: var(--fill-color);\n",
              "      border-bottom-color: var(--fill-color);\n",
              "    }\n",
              "    90% {\n",
              "      border-color: transparent;\n",
              "      border-bottom-color: var(--fill-color);\n",
              "    }\n",
              "  }\n",
              "</style>\n",
              "\n",
              "  <script>\n",
              "    async function quickchart(key) {\n",
              "      const quickchartButtonEl =\n",
              "        document.querySelector('#' + key + ' button');\n",
              "      quickchartButtonEl.disabled = true;  // To prevent multiple clicks.\n",
              "      quickchartButtonEl.classList.add('colab-df-spinner');\n",
              "      try {\n",
              "        const charts = await google.colab.kernel.invokeFunction(\n",
              "            'suggestCharts', [key], {});\n",
              "      } catch (error) {\n",
              "        console.error('Error during call to suggestCharts:', error);\n",
              "      }\n",
              "      quickchartButtonEl.classList.remove('colab-df-spinner');\n",
              "      quickchartButtonEl.classList.add('colab-df-quickchart-complete');\n",
              "    }\n",
              "    (() => {\n",
              "      let quickchartButtonEl =\n",
              "        document.querySelector('#df-5906fa04-858c-4ca9-b212-f5733b88f64f button');\n",
              "      quickchartButtonEl.style.display =\n",
              "        google.colab.kernel.accessAllowed ? 'block' : 'none';\n",
              "    })();\n",
              "  </script>\n",
              "</div>\n",
              "    </div>\n",
              "  </div>\n"
            ],
            "application/vnd.google.colaboratory.intrinsic+json": {
              "type": "dataframe",
              "summary": "{\n  \"name\": \"df\",\n  \"rows\": 8,\n  \"fields\": [\n    {\n      \"column\": \"class\",\n      \"properties\": {\n        \"dtype\": \"number\",\n        \"std\": 62.59804698158684,\n        \"min\": 0.0,\n        \"max\": 178.0,\n        \"num_unique_values\": 6,\n        \"samples\": [\n          178.0,\n          0.9382022471910112,\n          2.0\n        ],\n        \"semantic_type\": \"\",\n        \"description\": \"\"\n      }\n    },\n    {\n      \"column\": \"Alcohol\",\n      \"properties\": {\n        \"dtype\": \"number\",\n        \"std\": 59.11804622765535,\n        \"min\": 0.8118265380058575,\n        \"max\": 178.0,\n        \"num_unique_values\": 8,\n        \"samples\": [\n          13.00061797752809,\n          13.05,\n          178.0\n        ],\n        \"semantic_type\": \"\",\n        \"description\": \"\"\n      }\n    },\n    {\n      \"column\": \"Malic acid\",\n      \"properties\": {\n        \"dtype\": \"number\",\n        \"std\": 62.116878053835904,\n        \"min\": 0.74,\n        \"max\": 178.0,\n        \"num_unique_values\": 8,\n        \"samples\": [\n          2.3363483146067416,\n          1.8650000000000002,\n          178.0\n        ],\n        \"semantic_type\": \"\",\n        \"description\": \"\"\n      }\n    },\n    {\n      \"column\": \"Ash\",\n      \"properties\": {\n        \"dtype\": \"number\",\n        \"std\": 62.213612771606805,\n        \"min\": 0.27434400906081485,\n        \"max\": 178.0,\n        \"num_unique_values\": 8,\n        \"samples\": [\n          2.3665168539325845,\n          2.36,\n          178.0\n        ],\n        \"semantic_type\": \"\",\n        \"description\": \"\"\n      }\n    },\n    {\n      \"column\": \"Alcalinity of ash\",\n      \"properties\": {\n        \"dtype\": \"number\",\n        \"std\": 57.32526338306687,\n        \"min\": 3.339563767173505,\n        \"max\": 178.0,\n        \"num_unique_values\": 8,\n        \"samples\": [\n          19.49494382022472,\n          19.5,\n          178.0\n        ],\n        \"semantic_type\": \"\",\n        \"description\": \"\"\n      }\n    },\n    {\n      \"column\": \"Magnesium\",\n      \"properties\": {\n        \"dtype\": \"number\",\n        \"std\": 51.18081686409121,\n        \"min\": 14.282483515295665,\n        \"max\": 178.0,\n        \"num_unique_values\": 8,\n        \"samples\": [\n          99.74157303370787,\n          98.0,\n          178.0\n        ],\n        \"semantic_type\": \"\",\n        \"description\": \"\"\n      }\n    },\n    {\n      \"column\": \"Total phenols\",\n      \"properties\": {\n        \"dtype\": \"number\",\n        \"std\": 62.19953212829461,\n        \"min\": 0.6258510488339893,\n        \"max\": 178.0,\n        \"num_unique_values\": 8,\n        \"samples\": [\n          2.295112359550562,\n          2.355,\n          178.0\n        ],\n        \"semantic_type\": \"\",\n        \"description\": \"\"\n      }\n    },\n    {\n      \"column\": \"Flavanoids\",\n      \"properties\": {\n        \"dtype\": \"number\",\n        \"std\": 62.20866774807846,\n        \"min\": 0.34,\n        \"max\": 178.0,\n        \"num_unique_values\": 8,\n        \"samples\": [\n          2.0292696629213487,\n          2.135,\n          178.0\n        ],\n        \"semantic_type\": \"\",\n        \"description\": \"\"\n      }\n    },\n    {\n      \"column\": \"Nonflavanoid phenols\",\n      \"properties\": {\n        \"dtype\": \"number\",\n        \"std\": 62.81536936528359,\n        \"min\": 0.12445334029667937,\n        \"max\": 178.0,\n        \"num_unique_values\": 8,\n        \"samples\": [\n          0.3618539325842696,\n          0.34,\n          178.0\n        ],\n        \"semantic_type\": \"\",\n        \"description\": \"\"\n      }\n    },\n    {\n      \"column\": \"Proanthocyanins\",\n      \"properties\": {\n        \"dtype\": \"number\",\n        \"std\": 62.389141510191415,\n        \"min\": 0.41,\n        \"max\": 178.0,\n        \"num_unique_values\": 8,\n        \"samples\": [\n          1.5908988764044945,\n          1.5550000000000002,\n          178.0\n        ],\n        \"semantic_type\": \"\",\n        \"description\": \"\"\n      }\n    },\n    {\n      \"column\": \"Color intensity\",\n      \"properties\": {\n        \"dtype\": \"number\",\n        \"std\": 61.23070389608627,\n        \"min\": 1.28,\n        \"max\": 178.0,\n        \"num_unique_values\": 8,\n        \"samples\": [\n          5.058089882022472,\n          4.6899999999999995,\n          178.0\n        ],\n        \"semantic_type\": \"\",\n        \"description\": \"\"\n      }\n    },\n    {\n      \"column\": \"Hue\",\n      \"properties\": {\n        \"dtype\": \"number\",\n        \"std\": 62.618701002452724,\n        \"min\": 0.22857156582982338,\n        \"max\": 178.0,\n        \"num_unique_values\": 8,\n        \"samples\": [\n          0.9574494382022471,\n          0.965,\n          178.0\n        ],\n        \"semantic_type\": \"\",\n        \"description\": \"\"\n      }\n    },\n    {\n      \"column\": \"OD280/OD315\",\n      \"properties\": {\n        \"dtype\": \"number\",\n        \"std\": 62.109005977625,\n        \"min\": 0.7099904287650504,\n        \"max\": 178.0,\n        \"num_unique_values\": 8,\n        \"samples\": [\n          2.6116853932584267,\n          2.78,\n          178.0\n        ],\n        \"semantic_type\": \"\",\n        \"description\": \"\"\n      }\n    },\n    {\n      \"column\": \"Proline\",\n      \"properties\": {\n        \"dtype\": \"number\",\n        \"std\": 489.2848273029377,\n        \"min\": 178.0,\n        \"max\": 1680.0,\n        \"num_unique_values\": 8,\n        \"samples\": [\n          746.8932584269663,\n          673.5,\n          178.0\n        ],\n        \"semantic_type\": \"\",\n        \"description\": \"\"\n      }\n    }\n  ]\n}"
            }
          },
          "metadata": {},
          "execution_count": 14
        }
      ]
    },
    {
      "cell_type": "code",
      "source": [
        "# Data to numpy arrays\n",
        "X = df.iloc[:, :11].to_numpy().astype(np.float32)\n",
        "y = df.iloc[:, 11].to_numpy()\n",
        "X[:10], y[:10]"
      ],
      "metadata": {
        "colab": {
          "base_uri": "https://localhost:8080/"
        },
        "id": "ZH9KpJ_4O9ff",
        "outputId": "79a02c23-15e9-4389-b4be-d00c5cb277dd"
      },
      "execution_count": 15,
      "outputs": [
        {
          "output_type": "execute_result",
          "data": {
            "text/plain": [
              "(array([[  0.  ,  14.23,   1.71,   2.43,  15.6 , 127.  ,   2.8 ,   3.06,\n",
              "           0.28,   2.29,   5.64],\n",
              "        [  0.  ,  13.2 ,   1.78,   2.14,  11.2 , 100.  ,   2.65,   2.76,\n",
              "           0.26,   1.28,   4.38],\n",
              "        [  0.  ,  13.16,   2.36,   2.67,  18.6 , 101.  ,   2.8 ,   3.24,\n",
              "           0.3 ,   2.81,   5.68],\n",
              "        [  0.  ,  14.37,   1.95,   2.5 ,  16.8 , 113.  ,   3.85,   3.49,\n",
              "           0.24,   2.18,   7.8 ],\n",
              "        [  0.  ,  13.24,   2.59,   2.87,  21.  , 118.  ,   2.8 ,   2.69,\n",
              "           0.39,   1.82,   4.32],\n",
              "        [  0.  ,  14.2 ,   1.76,   2.45,  15.2 , 112.  ,   3.27,   3.39,\n",
              "           0.34,   1.97,   6.75],\n",
              "        [  0.  ,  14.39,   1.87,   2.45,  14.6 ,  96.  ,   2.5 ,   2.52,\n",
              "           0.3 ,   1.98,   5.25],\n",
              "        [  0.  ,  14.06,   2.15,   2.61,  17.6 , 121.  ,   2.6 ,   2.51,\n",
              "           0.31,   1.25,   5.05],\n",
              "        [  0.  ,  14.83,   1.64,   2.17,  14.  ,  97.  ,   2.8 ,   2.98,\n",
              "           0.29,   1.98,   5.2 ],\n",
              "        [  0.  ,  13.86,   1.35,   2.27,  16.  ,  98.  ,   2.98,   3.15,\n",
              "           0.22,   1.85,   7.22]], dtype=float32),\n",
              " array([1.04, 1.05, 1.03, 0.86, 1.04, 1.05, 1.02, 1.06, 1.08, 1.01]))"
            ]
          },
          "metadata": {},
          "execution_count": 15
        }
      ]
    },
    {
      "cell_type": "code",
      "source": [
        "# Splitting the data\n",
        "X_train, X_test, y_train, y_test = train_test_split(X, y, test_size=0.2, random_state=42)"
      ],
      "metadata": {
        "id": "eB-A_VqFKnkq"
      },
      "execution_count": 16,
      "outputs": []
    },
    {
      "cell_type": "code",
      "source": [
        "# Scaling the data\n",
        "scaler = StandardScaler()\n",
        "scaler.fit(X_train)\n",
        "X_train = scaler.transform(X_train)\n",
        "X_test = scaler.transform(X_test)"
      ],
      "metadata": {
        "id": "U80v8ZqnOg0s"
      },
      "execution_count": 17,
      "outputs": []
    },
    {
      "cell_type": "code",
      "source": [
        "# Converting data to tensors.\n",
        "X_train = torch.from_numpy(X_train)\n",
        "X_test = torch.from_numpy(X_test)\n",
        "y_train = torch.from_numpy(y_train).type(torch.float32)\n",
        "y_test = torch.from_numpy(y_test).type(torch.float32)"
      ],
      "metadata": {
        "id": "oKSxTKYqQhyC"
      },
      "execution_count": 18,
      "outputs": []
    },
    {
      "cell_type": "code",
      "source": [
        "X_train.shape, y_train.shape"
      ],
      "metadata": {
        "colab": {
          "base_uri": "https://localhost:8080/"
        },
        "id": "VV5q8nD-Rw1B",
        "outputId": "d5c9f5ed-3a9c-4a84-9282-26b6cd0be27c"
      },
      "execution_count": 19,
      "outputs": [
        {
          "output_type": "execute_result",
          "data": {
            "text/plain": [
              "(torch.Size([142, 11]), torch.Size([142]))"
            ]
          },
          "metadata": {},
          "execution_count": 19
        }
      ]
    },
    {
      "cell_type": "code",
      "source": [
        "# Creating linear regression model\n",
        "model = nn.Linear(11, 1)\n",
        "model.state_dict()  # Shows model parameters"
      ],
      "metadata": {
        "colab": {
          "base_uri": "https://localhost:8080/"
        },
        "id": "0eP7_9JDPdLM",
        "outputId": "cc0e8321-6f39-4e5a-c396-ce131a000d76"
      },
      "execution_count": 20,
      "outputs": [
        {
          "output_type": "execute_result",
          "data": {
            "text/plain": [
              "OrderedDict([('weight',\n",
              "              tensor([[ 0.2686, -0.2546,  0.1257,  0.2276, -0.1208,  0.1739, -0.2143, -0.1636,\n",
              "                       -0.1151, -0.1319,  0.1056]])),\n",
              "             ('bias', tensor([0.2212]))])"
            ]
          },
          "metadata": {},
          "execution_count": 20
        }
      ]
    },
    {
      "cell_type": "code",
      "source": [
        "# Setting up loss and optimizer\n",
        "loss_fn = nn.MSELoss()\n",
        "optimizer = torch.optim.SGD(model.parameters(),\n",
        "                            lr=0.01,\n",
        "                            momentum=0.7)"
      ],
      "metadata": {
        "id": "NtOQ4TsyPu1x"
      },
      "execution_count": 21,
      "outputs": []
    },
    {
      "cell_type": "code",
      "source": [
        "# Training\n",
        "EPOCHS = 100\n",
        "train_losses = []\n",
        "test_losses = []\n",
        "\n",
        "for epoch in tqdm(range(EPOCHS)):\n",
        "\n",
        "  ### Training\n",
        "  model.train()\n",
        "\n",
        "  # Forward Propagation\n",
        "  y_pred = model(X_train).squeeze(dim=1)\n",
        "\n",
        "  # Loss Value\n",
        "  loss = loss_fn(y_pred, y_train)\n",
        "  train_losses.append(loss.item())\n",
        "\n",
        "  # Set gradients to zero\n",
        "  optimizer.zero_grad()\n",
        "\n",
        "  # Backpropagation on loss\n",
        "  loss.backward()\n",
        "\n",
        "  # Update parameters\n",
        "  optimizer.step()\n",
        "\n",
        "  ### Testing\n",
        "  model.eval()\n",
        "  with torch.inference_mode():\n",
        "    test_preds = model(X_test).squeeze(dim=1)\n",
        "    test_loss = loss_fn(test_preds, y_test)\n",
        "    test_losses.append(test_loss.item())\n",
        "\n",
        "    if(epoch%10 == 0):\n",
        "      print(f'Epoch: {epoch} | Train Loss: {loss} | Test Loss: {test_loss}')"
      ],
      "metadata": {
        "colab": {
          "base_uri": "https://localhost:8080/",
          "height": 228,
          "referenced_widgets": [
            "42299b34515f4998b3ff1bc5ac1ad931",
            "61b5bcb426494268b179b7d7904b4996",
            "9c9112ebab614f5b9b5f10cea9d28430",
            "50ccafb32c8e44bbb25ffc8bade51116",
            "28ebc48ff1054845bfe22565c420dc98",
            "224608f888274b82a1ba133f22d1487e",
            "34ca0333a8824cbf9cb13c213f34746e",
            "b3d815ac6ef34cabaf1a94641c1680f1",
            "0735aecf2d8543959cad3f1798249979",
            "441c668da5e548f6bdd564495e243024",
            "6130caf1a4024a2f86c8f9d713bb9638"
          ]
        },
        "id": "fZ1SNhqOQMCr",
        "outputId": "be2c50f8-ac3b-4a9f-8c0e-d8d7b54fe393"
      },
      "execution_count": 22,
      "outputs": [
        {
          "output_type": "display_data",
          "data": {
            "text/plain": [
              "  0%|          | 0/100 [00:00<?, ?it/s]"
            ],
            "application/vnd.jupyter.widget-view+json": {
              "version_major": 2,
              "version_minor": 0,
              "model_id": "42299b34515f4998b3ff1bc5ac1ad931"
            }
          },
          "metadata": {}
        },
        {
          "output_type": "stream",
          "name": "stdout",
          "text": [
            "Epoch: 0 | Train Loss: 1.3450709581375122 | Test Loss: 1.3432320356369019\n",
            "Epoch: 10 | Train Loss: 0.278202086687088 | Test Loss: 0.21289321780204773\n",
            "Epoch: 20 | Train Loss: 0.08868218213319778 | Test Loss: 0.06379958987236023\n",
            "Epoch: 30 | Train Loss: 0.04679239168763161 | Test Loss: 0.03255326673388481\n",
            "Epoch: 40 | Train Loss: 0.034950535744428635 | Test Loss: 0.024894636124372482\n",
            "Epoch: 50 | Train Loss: 0.030003661289811134 | Test Loss: 0.022070787847042084\n",
            "Epoch: 60 | Train Loss: 0.027225863188505173 | Test Loss: 0.02051793597638607\n",
            "Epoch: 70 | Train Loss: 0.025446105748414993 | Test Loss: 0.019558941945433617\n",
            "Epoch: 80 | Train Loss: 0.024249982088804245 | Test Loss: 0.01895391382277012\n",
            "Epoch: 90 | Train Loss: 0.023431051522493362 | Test Loss: 0.018580781295895576\n"
          ]
        }
      ]
    },
    {
      "cell_type": "code",
      "source": [
        "# Plotting train and test loss against each other\n",
        "plt.figure(figsize=(10,7))\n",
        "plt.plot(train_losses)\n",
        "plt.plot(test_losses)\n",
        "plt.xlabel(\"Epochs\")\n",
        "plt.ylabel(\"Loss\")\n",
        "plt.title(\"Train vs Test Loss\");"
      ],
      "metadata": {
        "colab": {
          "base_uri": "https://localhost:8080/",
          "height": 641
        },
        "id": "it_Ffr3dRtet",
        "outputId": "cc5f8ee7-35b5-4253-eed5-51e237b68248"
      },
      "execution_count": 23,
      "outputs": [
        {
          "output_type": "display_data",
          "data": {
            "text/plain": [
              "<Figure size 1000x700 with 1 Axes>"
            ],
            "image/png": "[encoded data removed]"
          },
          "metadata": {}
        }
      ]
    },
    {
      "cell_type": "code",
      "source": [
        "# Accuracy Function for evaluation.\n",
        "def acc_fn(y_true, y_preds):\n",
        "  correct = torch.eq(y_true, y_preds.squeeze()).sum().item()\n",
        "  acc = correct / len(y_preds)\n",
        "  return acc*100"
      ],
      "metadata": {
        "id": "3GWLsUYVWDNg"
      },
      "execution_count": 24,
      "outputs": []
    },
    {
      "cell_type": "code",
      "source": [
        "# Making predictions with our model\n",
        "model.eval()\n",
        "with torch.inference_mode():\n",
        "  preds = model(X_test)\n",
        "  preds = torch.round(preds)\n",
        "print(f'Test Accuracy: {acc_fn(y_test, preds)}')"
      ],
      "metadata": {
        "colab": {
          "base_uri": "https://localhost:8080/"
        },
        "id": "lLDBUnhpTWTH",
        "outputId": "2d76847f-aa2b-493c-895a-db3a14e21056"
      },
      "execution_count": 25,
      "outputs": [
        {
          "output_type": "stream",
          "name": "stdout",
          "text": [
            "Test Accuracy: 0.0\n"
          ]
        }
      ]
    },
    {
      "cell_type": "markdown",
      "source": [
        "# Multinomial Logistic Regression\n",
        "Let's treat this as a classification problem and use multinomial logistic regression to take an attempt at getting a higher accuracy."
      ],
      "metadata": {
        "id": "UXUPKKJEaAGB"
      }
    },
    {
      "cell_type": "code",
      "source": [
        "# Let's try multiclass logistic regression.\n",
        "model2 = nn.Linear(11, 10)\n",
        "model2.state_dict()"
      ],
      "metadata": {
        "colab": {
          "base_uri": "https://localhost:8080/"
        },
        "id": "I6_XLNygXzbB",
        "outputId": "a5382816-b446-4463-91aa-0c26180435b3"
      },
      "execution_count": 26,
      "outputs": [
        {
          "output_type": "execute_result",
          "data": {
            "text/plain": [
              "OrderedDict([('weight',\n",
              "              tensor([[ 0.2867,  0.2299,  0.1179,  0.0103, -0.2073, -0.0887, -0.0071, -0.1352,\n",
              "                       -0.0282,  0.2893, -0.1196],\n",
              "                      [ 0.2352,  0.1072, -0.2946,  0.0384,  0.1405, -0.0258, -0.2294, -0.1570,\n",
              "                       -0.1639,  0.2251, -0.2651],\n",
              "                      [-0.1624, -0.1194,  0.0022, -0.0968,  0.0857,  0.2498,  0.1956,  0.1909,\n",
              "                       -0.0547, -0.2830, -0.2745],\n",
              "                      [-0.1263, -0.0579, -0.2095, -0.1824,  0.0661, -0.0861,  0.0690, -0.2304,\n",
              "                        0.2076, -0.1499, -0.2000],\n",
              "                      [ 0.1858,  0.1681,  0.1913,  0.2718, -0.0830,  0.2453,  0.2457, -0.0743,\n",
              "                        0.2795,  0.2065,  0.2231],\n",
              "                      [-0.1372,  0.2987,  0.2394, -0.0373,  0.1832, -0.1046,  0.1589, -0.0124,\n",
              "                        0.2370,  0.1993,  0.2710],\n",
              "                      [ 0.0673, -0.1128, -0.1746,  0.1695,  0.0024, -0.0606, -0.0962,  0.1265,\n",
              "                        0.0812,  0.1312, -0.2715],\n",
              "                      [ 0.1980,  0.1936,  0.2272,  0.2230, -0.0904, -0.2894, -0.0621, -0.3007,\n",
              "                       -0.1218,  0.2072, -0.0702],\n",
              "                      [-0.2151, -0.0594,  0.1188,  0.0268,  0.0657,  0.1971,  0.1272,  0.1114,\n",
              "                       -0.0632, -0.1885, -0.0815],\n",
              "                      [-0.0448,  0.2033, -0.1950,  0.1129,  0.0903,  0.1594, -0.2855, -0.0896,\n",
              "                       -0.1311, -0.1435,  0.2085]])),\n",
              "             ('bias',\n",
              "              tensor([ 0.1436,  0.1190,  0.0421,  0.2188, -0.1551,  0.1341,  0.1861,  0.0268,\n",
              "                      -0.2824, -0.1716]))])"
            ]
          },
          "metadata": {},
          "execution_count": 26
        }
      ]
    },
    {
      "cell_type": "code",
      "source": [
        "# Setting up our loss and optimizer\n",
        "loss_fn = nn.CrossEntropyLoss()\n",
        "optimizer = torch.optim.SGD(model2.parameters(),\n",
        "                            lr=0.05,\n",
        "                            momentum=0.9)"
      ],
      "metadata": {
        "id": "ekMdD6gSZFRn"
      },
      "execution_count": 27,
      "outputs": []
    },
    {
      "cell_type": "code",
      "source": [
        "# Since Cross Entropy expects us to have long datatype as our targets, we have to change y_test, y_train\n",
        "y_train = y_train.to(torch.long)\n",
        "y_test = y_test.to(torch.long)"
      ],
      "metadata": {
        "id": "0lbcJVJ-dWiA"
      },
      "execution_count": 28,
      "outputs": []
    },
    {
      "cell_type": "code",
      "source": [
        "# Training\n",
        "EPOCHS = 100\n",
        "train_losses = []\n",
        "test_losses = []\n",
        "train_acc = []\n",
        "test_acc = []\n",
        "\n",
        "for epoch in tqdm(range(EPOCHS)):\n",
        "\n",
        "  ### Training\n",
        "  model2.train()\n",
        "\n",
        "  # Forward Propagation\n",
        "  logits = model2(X_train)\n",
        "  probs = torch.softmax(logits, dim=1)\n",
        "  pred_labels = probs.argmax(dim=1)\n",
        "  acc = acc_fn(y_train, pred_labels)\n",
        "  train_acc.append(acc)\n",
        "\n",
        "  # Loss Value\n",
        "  loss = loss_fn(logits, y_train)\n",
        "  train_losses.append(loss.item())\n",
        "\n",
        "  # Set gradients to zero\n",
        "  optimizer.zero_grad()\n",
        "\n",
        "  # Backpropagation on loss\n",
        "  loss.backward()\n",
        "\n",
        "  # Update parameters\n",
        "  optimizer.step()\n",
        "\n",
        "  ### Testing\n",
        "  model2.eval()\n",
        "  with torch.inference_mode():\n",
        "    test_logits = model2(X_test)\n",
        "    test_probs = torch.softmax(test_logits, dim=1)\n",
        "    test_pred_labels = test_probs.argmax(dim=1)\n",
        "    t_acc = acc_fn(y_test, test_pred_labels)\n",
        "    train_acc.append(t_acc)\n",
        "\n",
        "    test_loss = loss_fn(test_logits, y_test)\n",
        "    test_losses.append(test_loss.item())\n",
        "\n",
        "    if(epoch%10 == 0):\n",
        "      print(f'Epoch: {epoch} | Train Loss: {loss:.5f}, Train Acc: {acc:.2f} | Test Loss: {test_loss:.5f}, Test Acc: {t_acc:.2f}')"
      ],
      "metadata": {
        "colab": {
          "base_uri": "https://localhost:8080/",
          "height": 0,
          "referenced_widgets": [
            "30147744d148459abe1caddf532270ad",
            "f26aae6d3add4698a101d10a20f1da6f",
            "d1755b8ba21d47bca61d46b9f787ca3e",
            "108204e94ca646be95bd8a4e6482706f",
            "bb68d77073e24000899dfa89717481e7",
            "b46f25a1678d42168e696f96ab0e93ab",
            "b925b5f4e23e42d2b12dbdc19f858673",
            "103b6d87e2d84a95a71ab438009eb09c",
            "039670f457174eacbf683980184212cb",
            "c5a622fd71394648a41cd8651707f924",
            "9f785f8d60b24edfbd496e16be1976b7"
          ]
        },
        "id": "XsYoog-zauSt",
        "outputId": "bdc0cb93-af3e-4f0b-dcf3-351cc311636e"
      },
      "execution_count": 29,
      "outputs": [
        {
          "output_type": "display_data",
          "data": {
            "text/plain": [
              "  0%|          | 0/100 [00:00<?, ?it/s]"
            ],
            "application/vnd.jupyter.widget-view+json": {
              "version_major": 2,
              "version_minor": 0,
              "model_id": "30147744d148459abe1caddf532270ad"
            }
          },
          "metadata": {}
        },
        {
          "output_type": "stream",
          "name": "stdout",
          "text": [
            "Epoch: 0 | Train Loss: 2.31265, Train Acc: 4.93 | Test Loss: 2.25213, Test Acc: 5.56\n",
            "Epoch: 10 | Train Loss: 1.06033, Train Acc: 78.17 | Test Loss: 1.21006, Test Acc: 69.44\n",
            "Epoch: 20 | Train Loss: 0.76945, Train Acc: 80.99 | Test Loss: 0.91481, Test Acc: 72.22\n",
            "Epoch: 30 | Train Loss: 0.52680, Train Acc: 81.69 | Test Loss: 0.56972, Test Acc: 80.56\n",
            "Epoch: 40 | Train Loss: 0.48302, Train Acc: 79.58 | Test Loss: 0.50860, Test Acc: 83.33\n",
            "Epoch: 50 | Train Loss: 0.44493, Train Acc: 78.87 | Test Loss: 0.52546, Test Acc: 80.56\n",
            "Epoch: 60 | Train Loss: 0.43031, Train Acc: 80.99 | Test Loss: 0.54011, Test Acc: 77.78\n",
            "Epoch: 70 | Train Loss: 0.42338, Train Acc: 82.39 | Test Loss: 0.54535, Test Acc: 75.00\n",
            "Epoch: 80 | Train Loss: 0.41792, Train Acc: 79.58 | Test Loss: 0.54469, Test Acc: 75.00\n",
            "Epoch: 90 | Train Loss: 0.41439, Train Acc: 79.58 | Test Loss: 0.54598, Test Acc: 75.00\n"
          ]
        }
      ]
    },
    {
      "cell_type": "code",
      "source": [
        "# Plotting train and test loss against each other\n",
        "plt.figure(figsize=(10,7))\n",
        "plt.plot(train_losses)\n",
        "plt.plot(test_losses)\n",
        "plt.xlabel(\"Epochs\")\n",
        "plt.ylabel(\"Loss\")\n",
        "plt.title(\"Train vs Test Loss\");"
      ],
      "metadata": {
        "colab": {
          "base_uri": "https://localhost:8080/",
          "height": 0
        },
        "id": "qrC-6FA7cPRY",
        "outputId": "bbc461b8-a31e-4b6b-f0d0-e0103f0ac501"
      },
      "execution_count": 30,
      "outputs": [
        {
          "output_type": "display_data",
          "data": {
            "text/plain": [
              "<Figure size 1000x700 with 1 Axes>"
            ],
            "image/png": "[encoded data removed]"
          },
          "metadata": {}
        }
      ]
    },
    {
      "cell_type": "markdown",
      "source": [
        "Both the algorithms show mediocre performance on this dataset. I should try implementing Random Forests or XGBoost and compare performances."
      ],
      "metadata": {
        "id": "uOBzroHogR-d"
      }
    },
    {
      "cell_type": "code",
      "source": [],
      "metadata": {
        "id": "GRAJhgIkfPok"
      },
      "execution_count": 30,
      "outputs": []
    }
  ]
}